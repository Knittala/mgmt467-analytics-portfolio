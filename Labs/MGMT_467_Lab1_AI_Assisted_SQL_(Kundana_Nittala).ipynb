{
  "cells": [
    {
      "cell_type": "markdown",
      "id": "0d2aeb22",
      "metadata": {
        "id": "0d2aeb22"
      },
      "source": [
        "# **Lab 1: AI‑Assisted SQL Foundations (Colab)**\n",
        "**Course:** MGMT 467 — AI‑Assisted Big Data Analytics in the Cloud  \n",
        "**When:** Unit 1 · Week 3 (Thursday)  \n",
        "**Goal:** Use *Gemini as a co‑pilot* to write and understand basic SQL against the **Superstore** dataset in **BigQuery**.  \n",
        "**You will practice:** Prompt engineering → SQL generation → Query execution → Interpretation.\n",
        "\n",
        "> ✅ **Deliverable (submit link in Brightspace):** A completed `Lab1_AI_Assisted_SQL.ipynb` with prompts, code, outputs.\n"
      ]
    },
    {
      "cell_type": "markdown",
      "id": "e24bbc6d",
      "metadata": {
        "id": "e24bbc6d"
      },
      "source": [
        "## ✅ What you need before starting\n",
        "- A Google account with access to **Google Colab**.\n",
        "- A **Google Cloud Project** with **BigQuery** API enabled.\n",
        "- A dataset named `superstore_data` and a table named `sales` (your instructor or TA will provide details).\n",
        "- (Optional) A GitHub repo to store your work for your team.\n"
      ]
    },
    {
      "cell_type": "markdown",
      "id": "95797bde",
      "metadata": {
        "id": "95797bde"
      },
      "source": [
        "## 0) Connect to class GitHub repo\n",
        "## Install and import libraries\n",
        "## Class Repo: bigDataNCloud/mgmt_467_resources"
      ]
    },
    {
      "cell_type": "code",
      "execution_count": null,
      "id": "5418aeca",
      "metadata": {
        "id": "5418aeca"
      },
      "outputs": [],
      "source": [
        "# #Replace with your actual class repo URL\n",
        "# CLASS_REPO_URL = \"https://github.com/YOUR-ORG-OR-USERNAME/class-repo.git\"\n",
        "# CLASS_REPO_DIR = \"/content/class-repo\"\n",
        "\n",
        "# # If already cloned, skip re-downloading\n",
        "# import os\n",
        "# if not os.path.exists(CLASS_REPO_DIR):\n",
        "#     !git clone {CLASS_REPO_URL} {CLASS_REPO_DIR}\n",
        "# else:\n",
        "#     %cd {CLASS_REPO_DIR}\n",
        "#     !git pull\n",
        "\n",
        "# # Move into repo folder\n",
        "# %cd {CLASS_REPO_DIR}\n",
        "\n",
        "# print(\"✅ Class repository ready at\", CLASS_REPO_DIR)"
      ]
    },
    {
      "cell_type": "code",
      "execution_count": null,
      "id": "129167ba",
      "metadata": {
        "id": "129167ba"
      },
      "outputs": [],
      "source": [
        "!pip -q install google-cloud-bigquery google-cloud-bigquery-storage db-dtypes pandas pyarrow kagglehub"
      ]
    },
    {
      "cell_type": "code",
      "execution_count": null,
      "id": "6163ed1f",
      "metadata": {
        "colab": {
          "base_uri": "https://localhost:8080/"
        },
        "id": "6163ed1f",
        "outputId": "617e3baf-f8f8-4bcb-e01a-fe1ba416ef6b"
      },
      "outputs": [
        {
          "output_type": "stream",
          "name": "stdout",
          "text": [
            "Libraries imported.\n"
          ]
        }
      ],
      "source": [
        "from google.cloud import bigquery\n",
        "from google.colab import auth\n",
        "import pandas as pd\n",
        "import os, json, textwrap, pathlib, pprint\n",
        "print(\"Libraries imported.\")"
      ]
    },
    {
      "cell_type": "markdown",
      "id": "915b677f",
      "metadata": {
        "id": "915b677f"
      },
      "source": [
        "## 1) Authenticate to GCP and set your project\n",
        "Run the cell below. When prompted, authorize Colab to access your Google Cloud resources."
      ]
    },
    {
      "cell_type": "code",
      "execution_count": null,
      "id": "79c4343d",
      "metadata": {
        "colab": {
          "base_uri": "https://localhost:8080/"
        },
        "id": "79c4343d",
        "outputId": "9689e76e-da80-42c7-dd99-253d1dd03c27"
      },
      "outputs": [
        {
          "output_type": "stream",
          "name": "stdout",
          "text": [
            "✅ Authenticated.\n",
            "✅ BigQuery client created for: key-chalice-471013-a5\n"
          ]
        }
      ],
      "source": [
        "auth.authenticate_user()\n",
        "print(\"✅ Authenticated.\")\n",
        "\n",
        "# Set your GCP project (EDIT THIS!)\n",
        "PROJECT_ID = \"key-chalice-471013-a5\"   # <-- EDIT ME\n",
        "assert PROJECT_ID != \"YOUR_PROJECT_ID_HERE\", \"Please set PROJECT_ID to your GCP project id.\"\n",
        "os.environ[\"GOOGLE_CLOUD_PROJECT\"] = PROJECT_ID\n",
        "\n",
        "# BigQuery client\n",
        "bq = bigquery.Client(project=PROJECT_ID)\n",
        "print(\"✅ BigQuery client created for:\", PROJECT_ID)"
      ]
    },
    {
      "cell_type": "markdown",
      "id": "b61d6e3b",
      "metadata": {
        "id": "b61d6e3b"
      },
      "source": [
        "### Quick connection test (optional)\n",
        "This will try to read the first 5 rows from your Superstore table. If it fails, double‑check your dataset/table name."
      ]
    },
    {
      "cell_type": "code",
      "execution_count": null,
      "id": "1a97c9ec",
      "metadata": {
        "colab": {
          "base_uri": "https://localhost:8080/",
          "height": 516
        },
        "id": "1a97c9ec",
        "outputId": "3d84147b-f73f-45b0-cedd-41f43f1e272f"
      },
      "outputs": [
        {
          "output_type": "display_data",
          "data": {
            "text/plain": [
              "   Row ID        Order ID  Order Date   Ship Date       Ship Mode Customer ID  \\\n",
              "0    5769  CA-2015-154900  2015-02-25  2015-03-01  Standard Class    SS-20875   \n",
              "1    5770  CA-2015-154900  2015-02-25  2015-03-01  Standard Class    SS-20875   \n",
              "2    9028  US-2016-152415  2016-09-17  2016-09-22  Standard Class    PO-18865   \n",
              "3    9029  US-2016-152415  2016-09-17  2016-09-22  Standard Class    PO-18865   \n",
              "4    8332  CA-2016-153269  2016-03-09  2016-03-12     First Class    PS-18760   \n",
              "\n",
              "       Customer Name   Segment        Country         City  ... Postal Code  \\\n",
              "0      Sung Shariari  Consumer  United States   Leominster  ...        1453   \n",
              "1      Sung Shariari  Consumer  United States   Leominster  ...        1453   \n",
              "2  Patrick O'Donnell  Consumer  United States  Marlborough  ...        1752   \n",
              "3  Patrick O'Donnell  Consumer  United States  Marlborough  ...        1752   \n",
              "4       Pamela Stobb  Consumer  United States      Andover  ...        1810   \n",
              "\n",
              "   Region       Product ID         Category Sub-Category  \\\n",
              "0    East  OFF-LA-10001641  Office Supplies       Labels   \n",
              "1    East  OFF-PA-10002377  Office Supplies        Paper   \n",
              "2    East  FUR-FU-10002597        Furniture  Furnishings   \n",
              "3    East  FUR-FU-10004864        Furniture  Furnishings   \n",
              "4    East  OFF-ST-10004634  Office Supplies      Storage   \n",
              "\n",
              "                                        Product Name   Sales  Quantity  \\\n",
              "0                                          Avery 518    3.15         1   \n",
              "1  Adams Telephone Message Book W/Dividers/Space ...   22.72         4   \n",
              "2  C-Line Magnetic Cubicle Keepers, Clear Polypro...   14.82         3   \n",
              "3  Howard Miller 14-1/2\" Diameter Chrome Round Wa...  191.82         3   \n",
              "4                      Personal Folder Holder, Ebony   11.21         1   \n",
              "\n",
              "   Discount   Profit  \n",
              "0       0.0   1.5120  \n",
              "1       0.0  10.2240  \n",
              "2       0.0   6.2244  \n",
              "3       0.0  61.3824  \n",
              "4       0.0   3.3630  \n",
              "\n",
              "[5 rows x 21 columns]"
            ],
            "text/html": [
              "\n",
              "  <div id=\"df-8d5ab4a4-d860-4e4a-8d8f-132fd5a82b2d\" class=\"colab-df-container\">\n",
              "    <div>\n",
              "<style scoped>\n",
              "    .dataframe tbody tr th:only-of-type {\n",
              "        vertical-align: middle;\n",
              "    }\n",
              "\n",
              "    .dataframe tbody tr th {\n",
              "        vertical-align: top;\n",
              "    }\n",
              "\n",
              "    .dataframe thead th {\n",
              "        text-align: right;\n",
              "    }\n",
              "</style>\n",
              "<table border=\"1\" class=\"dataframe\">\n",
              "  <thead>\n",
              "    <tr style=\"text-align: right;\">\n",
              "      <th></th>\n",
              "      <th>Row ID</th>\n",
              "      <th>Order ID</th>\n",
              "      <th>Order Date</th>\n",
              "      <th>Ship Date</th>\n",
              "      <th>Ship Mode</th>\n",
              "      <th>Customer ID</th>\n",
              "      <th>Customer Name</th>\n",
              "      <th>Segment</th>\n",
              "      <th>Country</th>\n",
              "      <th>City</th>\n",
              "      <th>...</th>\n",
              "      <th>Postal Code</th>\n",
              "      <th>Region</th>\n",
              "      <th>Product ID</th>\n",
              "      <th>Category</th>\n",
              "      <th>Sub-Category</th>\n",
              "      <th>Product Name</th>\n",
              "      <th>Sales</th>\n",
              "      <th>Quantity</th>\n",
              "      <th>Discount</th>\n",
              "      <th>Profit</th>\n",
              "    </tr>\n",
              "  </thead>\n",
              "  <tbody>\n",
              "    <tr>\n",
              "      <th>0</th>\n",
              "      <td>5769</td>\n",
              "      <td>CA-2015-154900</td>\n",
              "      <td>2015-02-25</td>\n",
              "      <td>2015-03-01</td>\n",
              "      <td>Standard Class</td>\n",
              "      <td>SS-20875</td>\n",
              "      <td>Sung Shariari</td>\n",
              "      <td>Consumer</td>\n",
              "      <td>United States</td>\n",
              "      <td>Leominster</td>\n",
              "      <td>...</td>\n",
              "      <td>1453</td>\n",
              "      <td>East</td>\n",
              "      <td>OFF-LA-10001641</td>\n",
              "      <td>Office Supplies</td>\n",
              "      <td>Labels</td>\n",
              "      <td>Avery 518</td>\n",
              "      <td>3.15</td>\n",
              "      <td>1</td>\n",
              "      <td>0.0</td>\n",
              "      <td>1.5120</td>\n",
              "    </tr>\n",
              "    <tr>\n",
              "      <th>1</th>\n",
              "      <td>5770</td>\n",
              "      <td>CA-2015-154900</td>\n",
              "      <td>2015-02-25</td>\n",
              "      <td>2015-03-01</td>\n",
              "      <td>Standard Class</td>\n",
              "      <td>SS-20875</td>\n",
              "      <td>Sung Shariari</td>\n",
              "      <td>Consumer</td>\n",
              "      <td>United States</td>\n",
              "      <td>Leominster</td>\n",
              "      <td>...</td>\n",
              "      <td>1453</td>\n",
              "      <td>East</td>\n",
              "      <td>OFF-PA-10002377</td>\n",
              "      <td>Office Supplies</td>\n",
              "      <td>Paper</td>\n",
              "      <td>Adams Telephone Message Book W/Dividers/Space ...</td>\n",
              "      <td>22.72</td>\n",
              "      <td>4</td>\n",
              "      <td>0.0</td>\n",
              "      <td>10.2240</td>\n",
              "    </tr>\n",
              "    <tr>\n",
              "      <th>2</th>\n",
              "      <td>9028</td>\n",
              "      <td>US-2016-152415</td>\n",
              "      <td>2016-09-17</td>\n",
              "      <td>2016-09-22</td>\n",
              "      <td>Standard Class</td>\n",
              "      <td>PO-18865</td>\n",
              "      <td>Patrick O'Donnell</td>\n",
              "      <td>Consumer</td>\n",
              "      <td>United States</td>\n",
              "      <td>Marlborough</td>\n",
              "      <td>...</td>\n",
              "      <td>1752</td>\n",
              "      <td>East</td>\n",
              "      <td>FUR-FU-10002597</td>\n",
              "      <td>Furniture</td>\n",
              "      <td>Furnishings</td>\n",
              "      <td>C-Line Magnetic Cubicle Keepers, Clear Polypro...</td>\n",
              "      <td>14.82</td>\n",
              "      <td>3</td>\n",
              "      <td>0.0</td>\n",
              "      <td>6.2244</td>\n",
              "    </tr>\n",
              "    <tr>\n",
              "      <th>3</th>\n",
              "      <td>9029</td>\n",
              "      <td>US-2016-152415</td>\n",
              "      <td>2016-09-17</td>\n",
              "      <td>2016-09-22</td>\n",
              "      <td>Standard Class</td>\n",
              "      <td>PO-18865</td>\n",
              "      <td>Patrick O'Donnell</td>\n",
              "      <td>Consumer</td>\n",
              "      <td>United States</td>\n",
              "      <td>Marlborough</td>\n",
              "      <td>...</td>\n",
              "      <td>1752</td>\n",
              "      <td>East</td>\n",
              "      <td>FUR-FU-10004864</td>\n",
              "      <td>Furniture</td>\n",
              "      <td>Furnishings</td>\n",
              "      <td>Howard Miller 14-1/2\" Diameter Chrome Round Wa...</td>\n",
              "      <td>191.82</td>\n",
              "      <td>3</td>\n",
              "      <td>0.0</td>\n",
              "      <td>61.3824</td>\n",
              "    </tr>\n",
              "    <tr>\n",
              "      <th>4</th>\n",
              "      <td>8332</td>\n",
              "      <td>CA-2016-153269</td>\n",
              "      <td>2016-03-09</td>\n",
              "      <td>2016-03-12</td>\n",
              "      <td>First Class</td>\n",
              "      <td>PS-18760</td>\n",
              "      <td>Pamela Stobb</td>\n",
              "      <td>Consumer</td>\n",
              "      <td>United States</td>\n",
              "      <td>Andover</td>\n",
              "      <td>...</td>\n",
              "      <td>1810</td>\n",
              "      <td>East</td>\n",
              "      <td>OFF-ST-10004634</td>\n",
              "      <td>Office Supplies</td>\n",
              "      <td>Storage</td>\n",
              "      <td>Personal Folder Holder, Ebony</td>\n",
              "      <td>11.21</td>\n",
              "      <td>1</td>\n",
              "      <td>0.0</td>\n",
              "      <td>3.3630</td>\n",
              "    </tr>\n",
              "  </tbody>\n",
              "</table>\n",
              "<p>5 rows × 21 columns</p>\n",
              "</div>\n",
              "    <div class=\"colab-df-buttons\">\n",
              "\n",
              "  <div class=\"colab-df-container\">\n",
              "    <button class=\"colab-df-convert\" onclick=\"convertToInteractive('df-8d5ab4a4-d860-4e4a-8d8f-132fd5a82b2d')\"\n",
              "            title=\"Convert this dataframe to an interactive table.\"\n",
              "            style=\"display:none;\">\n",
              "\n",
              "  <svg xmlns=\"http://www.w3.org/2000/svg\" height=\"24px\" viewBox=\"0 -960 960 960\">\n",
              "    <path d=\"M120-120v-720h720v720H120Zm60-500h600v-160H180v160Zm220 220h160v-160H400v160Zm0 220h160v-160H400v160ZM180-400h160v-160H180v160Zm440 0h160v-160H620v160ZM180-180h160v-160H180v160Zm440 0h160v-160H620v160Z\"/>\n",
              "  </svg>\n",
              "    </button>\n",
              "\n",
              "  <style>\n",
              "    .colab-df-container {\n",
              "      display:flex;\n",
              "      gap: 12px;\n",
              "    }\n",
              "\n",
              "    .colab-df-convert {\n",
              "      background-color: #E8F0FE;\n",
              "      border: none;\n",
              "      border-radius: 50%;\n",
              "      cursor: pointer;\n",
              "      display: none;\n",
              "      fill: #1967D2;\n",
              "      height: 32px;\n",
              "      padding: 0 0 0 0;\n",
              "      width: 32px;\n",
              "    }\n",
              "\n",
              "    .colab-df-convert:hover {\n",
              "      background-color: #E2EBFA;\n",
              "      box-shadow: 0px 1px 2px rgba(60, 64, 67, 0.3), 0px 1px 3px 1px rgba(60, 64, 67, 0.15);\n",
              "      fill: #174EA6;\n",
              "    }\n",
              "\n",
              "    .colab-df-buttons div {\n",
              "      margin-bottom: 4px;\n",
              "    }\n",
              "\n",
              "    [theme=dark] .colab-df-convert {\n",
              "      background-color: #3B4455;\n",
              "      fill: #D2E3FC;\n",
              "    }\n",
              "\n",
              "    [theme=dark] .colab-df-convert:hover {\n",
              "      background-color: #434B5C;\n",
              "      box-shadow: 0px 1px 3px 1px rgba(0, 0, 0, 0.15);\n",
              "      filter: drop-shadow(0px 1px 2px rgba(0, 0, 0, 0.3));\n",
              "      fill: #FFFFFF;\n",
              "    }\n",
              "  </style>\n",
              "\n",
              "    <script>\n",
              "      const buttonEl =\n",
              "        document.querySelector('#df-8d5ab4a4-d860-4e4a-8d8f-132fd5a82b2d button.colab-df-convert');\n",
              "      buttonEl.style.display =\n",
              "        google.colab.kernel.accessAllowed ? 'block' : 'none';\n",
              "\n",
              "      async function convertToInteractive(key) {\n",
              "        const element = document.querySelector('#df-8d5ab4a4-d860-4e4a-8d8f-132fd5a82b2d');\n",
              "        const dataTable =\n",
              "          await google.colab.kernel.invokeFunction('convertToInteractive',\n",
              "                                                    [key], {});\n",
              "        if (!dataTable) return;\n",
              "\n",
              "        const docLinkHtml = 'Like what you see? Visit the ' +\n",
              "          '<a target=\"_blank\" href=https://colab.research.google.com/notebooks/data_table.ipynb>data table notebook</a>'\n",
              "          + ' to learn more about interactive tables.';\n",
              "        element.innerHTML = '';\n",
              "        dataTable['output_type'] = 'display_data';\n",
              "        await google.colab.output.renderOutput(dataTable, element);\n",
              "        const docLink = document.createElement('div');\n",
              "        docLink.innerHTML = docLinkHtml;\n",
              "        element.appendChild(docLink);\n",
              "      }\n",
              "    </script>\n",
              "  </div>\n",
              "\n",
              "\n",
              "    <div id=\"df-5d37189d-e457-4eec-9c30-53753228108e\">\n",
              "      <button class=\"colab-df-quickchart\" onclick=\"quickchart('df-5d37189d-e457-4eec-9c30-53753228108e')\"\n",
              "                title=\"Suggest charts\"\n",
              "                style=\"display:none;\">\n",
              "\n",
              "<svg xmlns=\"http://www.w3.org/2000/svg\" height=\"24px\"viewBox=\"0 0 24 24\"\n",
              "     width=\"24px\">\n",
              "    <g>\n",
              "        <path d=\"M19 3H5c-1.1 0-2 .9-2 2v14c0 1.1.9 2 2 2h14c1.1 0 2-.9 2-2V5c0-1.1-.9-2-2-2zM9 17H7v-7h2v7zm4 0h-2V7h2v10zm4 0h-2v-4h2v4z\"/>\n",
              "    </g>\n",
              "</svg>\n",
              "      </button>\n",
              "\n",
              "<style>\n",
              "  .colab-df-quickchart {\n",
              "      --bg-color: #E8F0FE;\n",
              "      --fill-color: #1967D2;\n",
              "      --hover-bg-color: #E2EBFA;\n",
              "      --hover-fill-color: #174EA6;\n",
              "      --disabled-fill-color: #AAA;\n",
              "      --disabled-bg-color: #DDD;\n",
              "  }\n",
              "\n",
              "  [theme=dark] .colab-df-quickchart {\n",
              "      --bg-color: #3B4455;\n",
              "      --fill-color: #D2E3FC;\n",
              "      --hover-bg-color: #434B5C;\n",
              "      --hover-fill-color: #FFFFFF;\n",
              "      --disabled-bg-color: #3B4455;\n",
              "      --disabled-fill-color: #666;\n",
              "  }\n",
              "\n",
              "  .colab-df-quickchart {\n",
              "    background-color: var(--bg-color);\n",
              "    border: none;\n",
              "    border-radius: 50%;\n",
              "    cursor: pointer;\n",
              "    display: none;\n",
              "    fill: var(--fill-color);\n",
              "    height: 32px;\n",
              "    padding: 0;\n",
              "    width: 32px;\n",
              "  }\n",
              "\n",
              "  .colab-df-quickchart:hover {\n",
              "    background-color: var(--hover-bg-color);\n",
              "    box-shadow: 0 1px 2px rgba(60, 64, 67, 0.3), 0 1px 3px 1px rgba(60, 64, 67, 0.15);\n",
              "    fill: var(--button-hover-fill-color);\n",
              "  }\n",
              "\n",
              "  .colab-df-quickchart-complete:disabled,\n",
              "  .colab-df-quickchart-complete:disabled:hover {\n",
              "    background-color: var(--disabled-bg-color);\n",
              "    fill: var(--disabled-fill-color);\n",
              "    box-shadow: none;\n",
              "  }\n",
              "\n",
              "  .colab-df-spinner {\n",
              "    border: 2px solid var(--fill-color);\n",
              "    border-color: transparent;\n",
              "    border-bottom-color: var(--fill-color);\n",
              "    animation:\n",
              "      spin 1s steps(1) infinite;\n",
              "  }\n",
              "\n",
              "  @keyframes spin {\n",
              "    0% {\n",
              "      border-color: transparent;\n",
              "      border-bottom-color: var(--fill-color);\n",
              "      border-left-color: var(--fill-color);\n",
              "    }\n",
              "    20% {\n",
              "      border-color: transparent;\n",
              "      border-left-color: var(--fill-color);\n",
              "      border-top-color: var(--fill-color);\n",
              "    }\n",
              "    30% {\n",
              "      border-color: transparent;\n",
              "      border-left-color: var(--fill-color);\n",
              "      border-top-color: var(--fill-color);\n",
              "      border-right-color: var(--fill-color);\n",
              "    }\n",
              "    40% {\n",
              "      border-color: transparent;\n",
              "      border-right-color: var(--fill-color);\n",
              "      border-top-color: var(--fill-color);\n",
              "    }\n",
              "    60% {\n",
              "      border-color: transparent;\n",
              "      border-right-color: var(--fill-color);\n",
              "    }\n",
              "    80% {\n",
              "      border-color: transparent;\n",
              "      border-right-color: var(--fill-color);\n",
              "      border-bottom-color: var(--fill-color);\n",
              "    }\n",
              "    90% {\n",
              "      border-color: transparent;\n",
              "      border-bottom-color: var(--fill-color);\n",
              "    }\n",
              "  }\n",
              "</style>\n",
              "\n",
              "      <script>\n",
              "        async function quickchart(key) {\n",
              "          const quickchartButtonEl =\n",
              "            document.querySelector('#' + key + ' button');\n",
              "          quickchartButtonEl.disabled = true;  // To prevent multiple clicks.\n",
              "          quickchartButtonEl.classList.add('colab-df-spinner');\n",
              "          try {\n",
              "            const charts = await google.colab.kernel.invokeFunction(\n",
              "                'suggestCharts', [key], {});\n",
              "          } catch (error) {\n",
              "            console.error('Error during call to suggestCharts:', error);\n",
              "          }\n",
              "          quickchartButtonEl.classList.remove('colab-df-spinner');\n",
              "          quickchartButtonEl.classList.add('colab-df-quickchart-complete');\n",
              "        }\n",
              "        (() => {\n",
              "          let quickchartButtonEl =\n",
              "            document.querySelector('#df-5d37189d-e457-4eec-9c30-53753228108e button');\n",
              "          quickchartButtonEl.style.display =\n",
              "            google.colab.kernel.accessAllowed ? 'block' : 'none';\n",
              "        })();\n",
              "      </script>\n",
              "    </div>\n",
              "\n",
              "  <div id=\"id_645a0969-5b30-4eee-8eac-f56a5dd61a7e\">\n",
              "    <style>\n",
              "      .colab-df-generate {\n",
              "        background-color: #E8F0FE;\n",
              "        border: none;\n",
              "        border-radius: 50%;\n",
              "        cursor: pointer;\n",
              "        display: none;\n",
              "        fill: #1967D2;\n",
              "        height: 32px;\n",
              "        padding: 0 0 0 0;\n",
              "        width: 32px;\n",
              "      }\n",
              "\n",
              "      .colab-df-generate:hover {\n",
              "        background-color: #E2EBFA;\n",
              "        box-shadow: 0px 1px 2px rgba(60, 64, 67, 0.3), 0px 1px 3px 1px rgba(60, 64, 67, 0.15);\n",
              "        fill: #174EA6;\n",
              "      }\n",
              "\n",
              "      [theme=dark] .colab-df-generate {\n",
              "        background-color: #3B4455;\n",
              "        fill: #D2E3FC;\n",
              "      }\n",
              "\n",
              "      [theme=dark] .colab-df-generate:hover {\n",
              "        background-color: #434B5C;\n",
              "        box-shadow: 0px 1px 3px 1px rgba(0, 0, 0, 0.15);\n",
              "        filter: drop-shadow(0px 1px 2px rgba(0, 0, 0, 0.3));\n",
              "        fill: #FFFFFF;\n",
              "      }\n",
              "    </style>\n",
              "    <button class=\"colab-df-generate\" onclick=\"generateWithVariable('df_preview')\"\n",
              "            title=\"Generate code using this dataframe.\"\n",
              "            style=\"display:none;\">\n",
              "\n",
              "  <svg xmlns=\"http://www.w3.org/2000/svg\" height=\"24px\"viewBox=\"0 0 24 24\"\n",
              "       width=\"24px\">\n",
              "    <path d=\"M7,19H8.4L18.45,9,17,7.55,7,17.6ZM5,21V16.75L18.45,3.32a2,2,0,0,1,2.83,0l1.4,1.43a1.91,1.91,0,0,1,.58,1.4,1.91,1.91,0,0,1-.58,1.4L9.25,21ZM18.45,9,17,7.55Zm-12,3A5.31,5.31,0,0,0,4.9,8.1,5.31,5.31,0,0,0,1,6.5,5.31,5.31,0,0,0,4.9,4.9,5.31,5.31,0,0,0,6.5,1,5.31,5.31,0,0,0,8.1,4.9,5.31,5.31,0,0,0,12,6.5,5.46,5.46,0,0,0,6.5,12Z\"/>\n",
              "  </svg>\n",
              "    </button>\n",
              "    <script>\n",
              "      (() => {\n",
              "      const buttonEl =\n",
              "        document.querySelector('#id_645a0969-5b30-4eee-8eac-f56a5dd61a7e button.colab-df-generate');\n",
              "      buttonEl.style.display =\n",
              "        google.colab.kernel.accessAllowed ? 'block' : 'none';\n",
              "\n",
              "      buttonEl.onclick = () => {\n",
              "        google.colab.notebook.generateWithVariable('df_preview');\n",
              "      }\n",
              "      })();\n",
              "    </script>\n",
              "  </div>\n",
              "\n",
              "    </div>\n",
              "  </div>\n"
            ],
            "application/vnd.google.colaboratory.intrinsic+json": {
              "type": "dataframe",
              "variable_name": "df_preview"
            }
          },
          "metadata": {}
        },
        {
          "output_type": "stream",
          "name": "stdout",
          "text": [
            "✅ Connection OK.\n"
          ]
        }
      ],
      "source": [
        "DATASET = \"lab1_foundation_kn\"\n",
        "TABLE   = \"superstore\"\n",
        "BQ_TABLE = f\"`{PROJECT_ID}.{DATASET}.{TABLE}`\"\n",
        "\n",
        "query = f\"SELECT * FROM {BQ_TABLE} LIMIT 5\"\n",
        "try:\n",
        "    df_preview = bq.query(query).to_dataframe()\n",
        "    display(df_preview)\n",
        "    print(\"✅ Connection OK.\")\n",
        "except Exception as e:\n",
        "    print(\"⚠️ Could not query the table. Error below:\")\n",
        "    print(e)"
      ]
    },
    {
      "cell_type": "markdown",
      "id": "418fbb71",
      "metadata": {
        "id": "418fbb71"
      },
      "source": [
        "## 2) (Optional) Download a dataset with **KaggleHub**\n",
        "Use **KaggleHub** to pull sample data locally into Colab (e.g., for offline exploration or to stage for GCS).\n",
        "> This is **optional** for Lab 1 (we focus on BigQuery), but useful to practice data access workflows.\n",
        "> https://www.kaggle.com/datasets/anandaramg/global-superstore"
      ]
    },
    {
      "cell_type": "code",
      "execution_count": null,
      "id": "96f6423f",
      "metadata": {
        "id": "96f6423f"
      },
      "outputs": [],
      "source": [
        "import kagglehub, os, pathlib\n",
        "\n",
        "DATASET_REF = \"anandaramg/global-superstore\"   # you can change this to any public dataset reference\n",
        "\n",
        "download_path = kagglehub.dataset_download(DATASET_REF)\n",
        "print(\"Path to dataset files:\", download_path)\n",
        "\n",
        "# List files\n",
        "p = pathlib.Path(download_path)\n",
        "print(\"Files:\")\n",
        "for f in p.glob(\"**/*\"):\n",
        "    if f.is_file():\n",
        "        print(\"-\", f)\n"
      ]
    },
    {
      "cell_type": "markdown",
      "id": "4d59bc20",
      "metadata": {
        "id": "4d59bc20"
      },
      "source": [
        "## 3) Prompting approach for Lab 1\n",
        "You'll **paste prompts into Gemini** (in a separate tab), get back **SQL**, then paste that SQL here to execute.  \n",
        "We’ll practice three core question types:\n",
        "- **“What”** (lists & filters) → `SELECT`, `WHERE`, `DISTINCT`\n",
        "- **“How many”** (counts by category) → `COUNT`, `GROUP BY`\n",
        "- **“Who is best”** (rank/limit by metric) → `SUM`, `ORDER BY`, `LIMIT`"
      ]
    },
    {
      "cell_type": "markdown",
      "id": "605ec0f3",
      "metadata": {
        "id": "605ec0f3"
      },
      "source": [
        "### 3A) “What” Question — `SELECT`, `WHERE`, `DISTINCT`\n",
        "**Business Question:** *A manager wants a list of all **unique** product sub‑categories sold in the **West** region.*\n",
        "\n",
        "**Paste this prompt into Gemini (no edits needed except the project id if you used a different table path):**\n",
        "```\n",
        "# TASK: Generate a BigQuery SQL query.\n",
        "# CONTEXT: The table is `[YOUR_PROJECT_ID].superstore_data.sales`.\n",
        "# GOAL: Find all the unique values in the 'Sub_Category' column, but only for rows where the 'Region' column is exactly 'West'.\n",
        "```\n",
        "\n",
        "**Then paste the SQL you get into the cell below** (replace the placeholder) and run it."
      ]
    },
    {
      "cell_type": "code",
      "execution_count": null,
      "id": "289a74b8",
      "metadata": {
        "id": "289a74b8"
      },
      "outputs": [],
      "source": [
        "sql_str = \"\"\"\n",
        "SELECT DISTINCT Sub_Category\n",
        "FROM `YOUR_PROJECT_ID_HERE.superstore_data.sales`\n",
        "WHERE Region = 'West'\n",
        "ORDER BY Sub_Category\n",
        "\"\"\"\n",
        "sql_str = sql_str.replace(\"YOUR_PROJECT_ID_HERE\", PROJECT_ID)\n",
        "\n",
        "df_what = bq.query(sql_str).to_dataframe()\n",
        "print(f\"Rows: {len(df_what)}\")\n",
        "display(df_what.head(20))"
      ]
    },
    {
      "cell_type": "markdown",
      "id": "1c42d56c",
      "metadata": {
        "id": "1c42d56c"
      },
      "source": [
        "**Explain it back (metacognition):** In Gemini, paste:  \n",
        "> *Explain the following SQL query line by line: [paste your SQL]*  \n",
        "Summarize what you learned here:\n",
        "\n",
        "> **Notes:**"
      ]
    },
    {
      "cell_type": "markdown",
      "id": "1fce688d",
      "metadata": {
        "id": "1fce688d"
      },
      "source": [
        "### 3B) “How many” Question — `COUNT`, `GROUP BY`\n",
        "**Business Question:** *How many orders were placed in each **Ship Mode**?*\n",
        "\n",
        "**Gemini prompt:**\n",
        "```\n",
        "# TASK: Generate a BigQuery SQL query.\n",
        "# CONTEXT: The table is `[YOUR_PROJECT_ID].superstore_data.sales`.\n",
        "# GOAL: Count the total number of records for each unique value in the 'Ship_Mode' column.\n",
        "# The final result should have two columns: 'Ship_Mode' and 'order_count'.\n",
        "```\n"
      ]
    },
    {
      "cell_type": "code",
      "execution_count": null,
      "id": "d8ca1a3a",
      "metadata": {
        "id": "d8ca1a3a"
      },
      "outputs": [],
      "source": [
        "sql_str = \"\"\"\n",
        "-- PASTE the SQL from Gemini here\n",
        "SELECT Ship_Mode, COUNT(*) AS order_count\n",
        "FROM `YOUR_PROJECT_ID_HERE.superstore_data.sales`\n",
        "GROUP BY Ship_Mode\n",
        "ORDER BY order_count DESC\n",
        "\"\"\"\n",
        "sql_str = sql_str.replace(\"YOUR_PROJECT_ID_HERE\", PROJECT_ID)\n",
        "\n",
        "df_howmany = bq.query(sql_str).to_dataframe()\n",
        "display(df_howmany)"
      ]
    },
    {
      "cell_type": "markdown",
      "id": "aefe27ea",
      "metadata": {
        "id": "aefe27ea"
      },
      "source": [
        "### 3C) “Who is best” Question — `SUM`, `ORDER BY`, `LIMIT`\n",
        "**Business Question:** *Identify the **top 5 most profitable customers**.*\n",
        "\n",
        "**Gemini prompt:**\n",
        "```\n",
        "# TASK: Generate a BigQuery SQL query.\n",
        "# CONTEXT: The table is `[YOUR_PROJECT_ID].superstore_data.sales`. The customer identifier is 'Customer_ID'.\n",
        "# GOAL: Calculate the sum of 'Profit' for each customer. The final output should show the 'Customer_ID' and their total profit, sorted from highest to lowest profit, and limited to only the top 5 results.\n",
        "```\n"
      ]
    },
    {
      "cell_type": "code",
      "execution_count": null,
      "id": "f94560c4",
      "metadata": {
        "id": "f94560c4"
      },
      "outputs": [],
      "source": [
        "sql_str = \"\"\"\n",
        "-- PASTE the SQL from Gemini here\n",
        "SELECT Customer_ID, SUM(Profit) AS total_profit\n",
        "FROM `YOUR_PROJECT_ID_HERE.superstore_data.sales`\n",
        "GROUP BY Customer_ID\n",
        "ORDER BY total_profit DESC\n",
        "LIMIT 5\n",
        "\"\"\"\n",
        "sql_str = sql_str.replace(\"YOUR_PROJECT_ID_HERE\", PROJECT_ID)\n",
        "\n",
        "df_best = bq.query(sql_str).to_dataframe()\n",
        "display(df_best)"
      ]
    },
    {
      "cell_type": "markdown",
      "id": "5dfde3c4",
      "metadata": {
        "id": "5dfde3c4"
      },
      "source": [
        "## 4) Challenge prompts (author your own)\n",
        "Write **your own precise prompt** in a text cell (or comment) for each question below, then get SQL from Gemini and run it in the provided code cells.\n",
        "\n",
        "**Challenge 1:** *What is the **average discount** for products in the **Technology** category sold in the **East** region?*  \n",
        "**Challenge 2:** *How many **unique customers** has each **Segment** (Consumer/Corporate/Home Office) served?*"
      ]
    },
    {
      "cell_type": "code",
      "execution_count": null,
      "id": "589de21a",
      "metadata": {
        "id": "589de21a"
      },
      "outputs": [],
      "source": [
        "sql_str = \"\"\"\n",
        "-- PASTE your Gemini-generated SQL here\n",
        "SELECT AVG(Discount) AS avg_discount\n",
        "FROM `YOUR_PROJECT_ID_HERE.superstore_data.sales`\n",
        "WHERE Category = 'Technology' AND Region = 'East'\n",
        "\"\"\"\n",
        "sql_str = sql_str.replace(\"YOUR_PROJECT_ID_HERE\", PROJECT_ID)\n",
        "df_ch1 = bq.query(sql_str).to_dataframe()\n",
        "display(df_ch1)"
      ]
    },
    {
      "cell_type": "code",
      "execution_count": null,
      "id": "0238d1fe",
      "metadata": {
        "id": "0238d1fe"
      },
      "outputs": [],
      "source": [
        "sql_str = \"\"\"\n",
        "-- PASTE your Gemini-generated SQL here\n",
        "SELECT Segment, COUNT(DISTINCT Customer_ID) AS unique_customers\n",
        "FROM `YOUR_PROJECT_ID_HERE.superstore_data.sales`\n",
        "GROUP BY Segment\n",
        "ORDER BY unique_customers DESC\n",
        "\"\"\"\n",
        "sql_str = sql_str.replace(\"YOUR_PROJECT_ID_HERE\", PROJECT_ID)\n",
        "df_ch2 = bq.query(sql_str).to_dataframe()\n",
        "display(df_ch2)"
      ]
    },
    {
      "cell_type": "markdown",
      "id": "564d3d70",
      "metadata": {
        "id": "564d3d70"
      },
      "source": [
        "## 5) Reflection (DIVE mindset)\n",
        "- **Discover:** What did you find first?  \n",
        "- **Investigate:** What alternate query or filter changed the story?  \n",
        "- **Validate:** Where could the AI‑generated SQL be wrong or incomplete? How did you check?  \n",
        "- **Extend:** Which stakeholder could use your results tomorrow? What action should they take?\n",
        "\n",
        "\n"
      ]
    },
    {
      "cell_type": "markdown",
      "metadata": {
        "id": "68f0b3ed"
      },
      "source": [
        "\n",
        "- **Discover:** What did you find first?  \n",
        "     I discovered the unique product sub-categories available in the West region, such as 'Phones', 'Chairs', and 'Storage'. I also saw took note that the 'Standard Class' is the most frequently used Ship Mode.\n",
        "\n",
        "- **Investigate:** What alternate query or filter changed the story?  \n",
        "    I could investigate the unique sub-categories in a different region, like the East, to see if the product mix is different. I could also look at the total sales per customer instead of profit to see if the top customers are the same.\n",
        "\n",
        "- **Validate:** Where could the AI‑generated SQL be wrong or incomplete? How did you check?  \n",
        "    The AI-generated SQL seems correct for these simple queries. I validated it by manually checking a few rows in the preview of the data (`df_preview`) and confirming that the logic matched the query's goal. For more complex queries, I would need to carefully review the SQL syntax and potentially run intermediate steps to check the results.\n",
        "\n",
        "- **Extend:** Which stakeholder could use your results tomorrow? What action should they take?\n",
        "    The sales manager for the West region could use the list of unique sub-categories to understand the product offerings in their area. They could compare this to other regions to identify potential gaps or areas for growth. The marketing team could use the list of top profitable customers to create targeted campaigns or loyalty programs."
      ],
      "id": "68f0b3ed"
    },
    {
      "cell_type": "markdown",
      "id": "dbc96289",
      "metadata": {
        "id": "dbc96289"
      },
      "source": [
        "## 6) Save your work to GitHub (pick one of the options)\n",
        "**Option A (recommended):** In Colab, go to **File → Save a copy in GitHub…** and select your team repo + folder (e.g., `labs/Unit1/`).  \n",
        "**Option B (CLI, if you know git):**\n",
        "```bash\n",
        "# (In Colab) mount Drive, then clone/pull/push as usual with a PAT\n",
        "# Be careful to NOT store secrets in the notebook.\n",
        "```\n",
        "Name the file **`Lab1_AI_Assisted_SQL.ipynb`** and push it to your team repo."
      ]
    }
  ],
  "metadata": {
    "language_info": {
      "name": "python"
    },
    "colab": {
      "provenance": []
    },
    "kernelspec": {
      "name": "python3",
      "display_name": "Python 3"
    }
  },
  "nbformat": 4,
  "nbformat_minor": 5
}